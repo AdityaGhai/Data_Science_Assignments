{
 "cells": [
  {
   "cell_type": "markdown",
   "id": "967896d6-82d7-476c-b9bc-a2de02704000",
   "metadata": {},
   "source": [
    "# Assignment !"
   ]
  },
  {
   "cell_type": "markdown",
   "id": "885ad5fe-2c43-40bd-b37c-f212c31266b9",
   "metadata": {},
   "source": [
    "### Q1. What is Statistics?"
   ]
  },
  {
   "cell_type": "markdown",
   "id": "c30756f8-6a0b-43b7-95ea-f939b151e858",
   "metadata": {},
   "source": [
    "Statistics is study of analyzing, orgainzing, interpretation of data."
   ]
  },
  {
   "cell_type": "markdown",
   "id": "e4bdfbef-ba45-442e-90db-a80559927f6a",
   "metadata": {},
   "source": [
    "### Q2. Define the different types of statistics and give an example of when each type might be used."
   ]
  },
  {
   "cell_type": "markdown",
   "id": "6dd9dfca-8bd2-4f1f-8af4-b96e10a7eaa7",
   "metadata": {},
   "source": [
    "Descriptive Statistics and Inferential Statistics\n",
    "Descriptive Statistics - it consists of organizing and summarizing of data. eg- when we need to find the average of marks in a class.\n",
    "Inferential Statistics - it consists of forming a conclusion from a sample data.eg - Is the marks of the students in class is similar for the entire college."
   ]
  },
  {
   "cell_type": "markdown",
   "id": "ed342eb4-7a6e-492b-ae27-ff2997a9247e",
   "metadata": {},
   "source": [
    "### Q3. What are the different types of data and how do they differ from each other? Provide an example of each type of data."
   ]
  },
  {
   "cell_type": "markdown",
   "id": "29924bbb-883a-491b-a2bd-0c584e32f7c1",
   "metadata": {},
   "source": [
    "Types of data - Quantative and Qualitive: \n",
    "Quantative consists of Discreate and Continous data, i.e data is numerical\n",
    "Qualative consists of Nominal and Ordinal data, i.e. categorical data\n",
    "E.g. \n",
    "- Discreate Data = Number of marks in a exam\n",
    "- Continous Data = Height of person in a city\n",
    "\n",
    "- Nominal Data = Species of penguin\n",
    "- Ordinal Data = Grades of subject"
   ]
  },
  {
   "cell_type": "markdown",
   "id": "e91a314e-c124-4984-8fca-9a1e93ffb3f7",
   "metadata": {},
   "source": [
    "### Q4. Categorise the following datasets with respect to quantitative and qualitative data types:\n",
    "(i) Grading in exam: A+, A, B+, B, C+, C, D, E\n",
    "\n",
    "(ii) Colour of mangoes: yellow, green, orange, red\n",
    "\n",
    "(iii) Height data of a class: [178.9, 179, 179.5, 176, 177.2, 178.3, 175.8,...]\n",
    "\n",
    "(iv) Number of mangoes exported by a farm: [500, 600, 478, 672, ...]"
   ]
  },
  {
   "cell_type": "markdown",
   "id": "f15bf37c-bc5d-4c7b-8fa5-c6f225ffabca",
   "metadata": {},
   "source": [
    "ans"
   ]
  },
  {
   "cell_type": "markdown",
   "id": "1608d8d9-3afb-4ee6-9e34-692f73c081c5",
   "metadata": {},
   "source": [
    "i) oridinal data - qualitative\n",
    "\n",
    "ii) nominal data - qualitative\n",
    "\n",
    "iii) continous data - quantitative\n",
    "\n",
    "iv) discrete data - quantitative"
   ]
  },
  {
   "cell_type": "markdown",
   "id": "0d46f294-ed07-4c89-85bf-3556f4650a63",
   "metadata": {},
   "source": [
    "### Q5. Explain the concept of levels of measurement and give an example of a variable for each level."
   ]
  },
  {
   "cell_type": "markdown",
   "id": "eb055007-321e-45b9-ad91-f0ce4026e6e9",
   "metadata": {},
   "source": [
    "There are 4 types of scale of measurement - \n",
    "\n",
    "- nominal scale data\n",
    "- ordinal scale data\n",
    "- interval scale data\n",
    "- ratio scale data\n",
    "\n",
    "-- nominal scale data:\n",
    "The data is used is categorical/qualitative data.\n",
    "Order of data does not matter.\n",
    "e.g. = we have a data of colors where: red = 2 blue = 5 yellow = 3. here the data is categorical and there is no ranking/order of the color. \n",
    "\n",
    "-- Ordinal scale data:\n",
    "Qualitative/categorical data\n",
    "In this the order of data matters of the measurement. Ranking is also important.\n",
    "But the difference of data does not give any insight.\n",
    "e.g. = In a tournament if only the position of players is given, i.e.- 1st rank, 2nd rank, 3rd rank. the ranking and order is important in this data but the difference between this does not provide anything. or level of satisfaction - poor , good , excelent.\n",
    "\n",
    "-- Interval Scale data: \n",
    "Numerical - continous data\n",
    "In this order of data and ranking is important. 0 is arbitory i.e. no meaningfull significance.\n",
    "The difference also give insight. but the ratio doesn't tell anyting.\n",
    "e.g. = We have a data of temparature - 20f , 45f, 49f. here the ranking, order and difference give insights about the data. but the ratio does not provide anything.\n",
    "\n",
    "-- Ratio Scale data:\n",
    "numerical - continous\n",
    "The order, ranking and difference provide insights about the data.\n",
    "Also the ratio provide the insight. 0 is imporatant factor.\n",
    "e.g. = We have marks of students from a class - 39, 40, 55, 90. here the ranking, order, differene and also ratio provide insight of the data.\n"
   ]
  },
  {
   "cell_type": "markdown",
   "id": "9b0f0c8b-7051-45e0-bf62-7657f8798348",
   "metadata": {},
   "source": [
    "### Q6. Why is it important to understand the level of measurement when analyzing data? Provide an example to illustrate your answer."
   ]
  },
  {
   "cell_type": "markdown",
   "id": "2b0812f1-b18d-4c8c-9b62-585c2dc4324d",
   "metadata": {},
   "source": [
    "It is important to understand the level of measurement when analyzing data because we can use certain statistical test on certain level of data. \n",
    "\n",
    "e.g.- Lets say we have data of color of dogs in state, i.e. white, black, brown. As it is a nominal data if we try to find the median of color of dogs.\n",
    "it does not provide any meaningfull insight of the data."
   ]
  },
  {
   "cell_type": "markdown",
   "id": "0d64e01c-f8d9-44da-88e3-d316bcf55a4e",
   "metadata": {},
   "source": [
    "### Q7. How nominal data type is different from ordinal data type."
   ]
  },
  {
   "cell_type": "markdown",
   "id": "274ff7e4-d86a-47b0-8831-20b0328c93df",
   "metadata": {},
   "source": [
    "Nominal data type has no ranking or order of data where as ordinal data type has ranking or order of data.\n"
   ]
  },
  {
   "cell_type": "markdown",
   "id": "1e525813-6249-46e5-8d40-14a65685642a",
   "metadata": {},
   "source": [
    "### Q8. Which type of plot can be used to display data in terms of range?"
   ]
  },
  {
   "cell_type": "markdown",
   "id": "ef58e76b-471e-4b2b-9605-79a206134400",
   "metadata": {},
   "source": [
    "Box plot can be used to display data in terms of range. It displays minimum, first quartile, median, third quartile and maximum of dataset."
   ]
  },
  {
   "cell_type": "markdown",
   "id": "c0239c6f-fb2c-4d75-b76a-852a968af38e",
   "metadata": {},
   "source": [
    "### Q9. Describe the difference between descriptive and inferential statistics. Give an example of each type of statistics and explain how they are used."
   ]
  },
  {
   "cell_type": "markdown",
   "id": "69b81e12-a67a-48aa-8deb-2cc9187bdc3e",
   "metadata": {},
   "source": [
    "Descriptive Statistics is summarizing and organizing of data for the insight of data. It properties such as central tendancy, central distribution.\n",
    "\n",
    "Inferential statistics is finding conclusion from the sample of data for the population of data. it has z-test, t-test.\n",
    "\n",
    "Lets say we have a data of marks of a class from a college.\n",
    "                                                                    \n",
    "descriptive - The average marks of class. this is descriptive statistics.\n",
    "\n",
    "inferntial - can we conclude the average of class as the average marks of college. - this is inferntial statistics."
   ]
  },
  {
   "cell_type": "markdown",
   "id": "9581d047-8fd5-4fc2-a0a7-9a159bf003b2",
   "metadata": {},
   "source": [
    "### Q10. What are some common memasures of central tendency and variability used in statistics? Explain how each measure can be used to describe a dataset."
   ]
  },
  {
   "cell_type": "markdown",
   "id": "661265c6-fbc3-4e48-a445-803798da9aaa",
   "metadata": {},
   "source": [
    "Common measures of central tendency -\n",
    "\n",
    "Mean \n",
    "\n",
    "Median\n",
    "\n",
    "Mode\n",
    "\n",
    "central Variability - \n",
    "\n",
    "Varience\n",
    "\n",
    "Standard deviation\n",
    "\n",
    "Central Tendency tells us the central measurement of data i.e. it tells us average of data in a dataset. we can use mean to find the average and if we have \n",
    "outliers in data we can use median and if we want to the maximum no. of data point in dataset we use mode.\n",
    "All this can also be used to fill the null/blank value of the dataset.\n",
    "\n",
    "Central Variablity tells us the spread and diversity of the of data in a dataset. we can find the deviation in the data points with this."
   ]
  },
  {
   "cell_type": "code",
   "execution_count": null,
   "id": "d119eac2-ac8f-4c4e-94ec-6e4c205c1ead",
   "metadata": {},
   "outputs": [],
   "source": []
  }
 ],
 "metadata": {
  "kernelspec": {
   "display_name": "Python 3 (ipykernel)",
   "language": "python",
   "name": "python3"
  },
  "language_info": {
   "codemirror_mode": {
    "name": "ipython",
    "version": 3
   },
   "file_extension": ".py",
   "mimetype": "text/x-python",
   "name": "python",
   "nbconvert_exporter": "python",
   "pygments_lexer": "ipython3",
   "version": "3.11.7"
  }
 },
 "nbformat": 4,
 "nbformat_minor": 5
}
